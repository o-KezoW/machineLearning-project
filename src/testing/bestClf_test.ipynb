{
  "nbformat": 4,
  "nbformat_minor": 0,
  "metadata": {
    "colab": {
      "name": "bestClf_test.ipynb",
      "provenance": []
    },
    "kernelspec": {
      "name": "python3",
      "display_name": "Python 3"
    }
  },
  "cells": [
    {
      "cell_type": "markdown",
      "metadata": {
        "id": "ws3vhg0rY2ff"
      },
      "source": [
        "# **KNN 0.68 ACC**"
      ]
    },
    {
      "cell_type": "code",
      "metadata": {
        "id": "MQaxzn-vUVTg",
        "outputId": "b8e44f66-0c58-4fe1-be97-86fec68a74a5",
        "colab": {
          "base_uri": "https://localhost:8080/"
        }
      },
      "source": [
        "import sklearn as sk\n",
        "import pandas as pd\n",
        "from sklearn import preprocessing\n",
        "from sklearn import model_selection\n",
        "from sklearn.neighbors import KNeighborsClassifier\n",
        "\n",
        "dataframe = pd.read_csv(\n",
        "    \"https://raw.githubusercontent.com/o-KezoW/machineLearning-project\" +\n",
        "    \"/main/src/data/pima-indians-diabetes.csv\", header=None\n",
        "    )\n",
        "\n",
        "X = dataframe.iloc[:, :-1]\n",
        "y = dataframe.iloc[:, -1]\n",
        "\n",
        "normalize = preprocessing.MinMaxScaler()\n",
        "normalized_X = normalize.fit_transform(X)\n",
        "\n",
        "X_train, X_test, y_train, y_test = (\n",
        "    model_selection.train_test_split(normalized_X, y, test_size=0.30,\n",
        "                                     random_state=42)\n",
        "    )\n",
        "\n",
        "classifier = KNeighborsClassifier(n_neighbors=5)\n",
        "classifier.fit(X_train, y_train)\n",
        "\n",
        "y_pred = classifier.predict(X_test)\n",
        "\n",
        "print(sk.metrics.confusion_matrix(y_test, y_pred))\n",
        "print(sk.metrics.classification_report(y_test, y_pred))\n"
      ],
      "execution_count": 20,
      "outputs": [
        {
          "output_type": "stream",
          "text": [
            "[[118  33]\n",
            " [ 41  39]]\n",
            "              precision    recall  f1-score   support\n",
            "\n",
            "           0       0.74      0.78      0.76       151\n",
            "           1       0.54      0.49      0.51        80\n",
            "\n",
            "    accuracy                           0.68       231\n",
            "   macro avg       0.64      0.63      0.64       231\n",
            "weighted avg       0.67      0.68      0.68       231\n",
            "\n"
          ],
          "name": "stdout"
        }
      ]
    },
    {
      "cell_type": "markdown",
      "metadata": {
        "id": "W2BpVWpuZn_R"
      },
      "source": [
        "# **MLP 0.74 ACC**"
      ]
    },
    {
      "cell_type": "code",
      "metadata": {
        "id": "Jse51TH1WEU5",
        "outputId": "f5a8d5e9-117a-439c-894b-539a9b9995a8",
        "colab": {
          "base_uri": "https://localhost:8080/"
        }
      },
      "source": [
        "import sklearn as sk\n",
        "import pandas as pd\n",
        "from sklearn import preprocessing\n",
        "from sklearn import model_selection\n",
        "from sklearn.neural_network import MLPClassifier\n",
        "\n",
        "dataframe = pd.read_csv(\n",
        "    \"https://raw.githubusercontent.com/o-KezoW/machineLearning-project\" +\n",
        "    \"/main/src/data/pima-indians-diabetes.csv\", header=None\n",
        "    )\n",
        "\n",
        "X = dataframe.iloc[:, :-1]\n",
        "y = dataframe.iloc[:, -1]\n",
        "\n",
        "normalize = preprocessing.MinMaxScaler()\n",
        "normalized_X = normalize.fit_transform(X)\n",
        "\n",
        "X_train, X_test, y_train, y_test = (\n",
        "    model_selection.train_test_split(normalized_X, y, test_size=0.30,\n",
        "                                     random_state=42)\n",
        "    )\n",
        "\n",
        "classifier = MLPClassifier(\n",
        "    solver='lbfgs', alpha=1e-5, hidden_layer_sizes=(5, 10),\n",
        "     random_state=1, max_iter=500\n",
        "    )\n",
        "\n",
        "classifier.fit(X_train, y_train)\n",
        "\n",
        "y_pred = classifier.predict(X_test)\n",
        "\n",
        "print(sk.metrics.confusion_matrix(y_test, y_pred))\n",
        "print(sk.metrics.classification_report(y_test, y_pred))\n"
      ],
      "execution_count": 18,
      "outputs": [
        {
          "output_type": "stream",
          "text": [
            "[[124  27]\n",
            " [ 32  48]]\n",
            "              precision    recall  f1-score   support\n",
            "\n",
            "           0       0.79      0.82      0.81       151\n",
            "           1       0.64      0.60      0.62        80\n",
            "\n",
            "    accuracy                           0.74       231\n",
            "   macro avg       0.72      0.71      0.71       231\n",
            "weighted avg       0.74      0.74      0.74       231\n",
            "\n"
          ],
          "name": "stdout"
        }
      ]
    },
    {
      "cell_type": "markdown",
      "metadata": {
        "id": "jelnBWUkaBZ7"
      },
      "source": [
        "# **DECISION TREE 0.71 ACC**"
      ]
    },
    {
      "cell_type": "code",
      "metadata": {
        "id": "b6rJIdlMZRfP",
        "outputId": "416e52a0-c3d3-4e8b-8cb8-6108446eed81",
        "colab": {
          "base_uri": "https://localhost:8080/"
        }
      },
      "source": [
        "import sklearn as sk\n",
        "import pandas as pd\n",
        "from sklearn import preprocessing\n",
        "from sklearn import model_selection\n",
        "from sklearn.tree import DecisionTreeClassifier\n",
        "\n",
        "dataframe = pd.read_csv(\n",
        "    \"https://raw.githubusercontent.com/o-KezoW/machineLearning-project\" +\n",
        "    \"/main/src/data/pima-indians-diabetes.csv\", header=None\n",
        "    )\n",
        "\n",
        "X = dataframe.iloc[:, :-1]\n",
        "y = dataframe.iloc[:, -1]\n",
        "\n",
        "normalize = preprocessing.MinMaxScaler()\n",
        "normalized_X = normalize.fit_transform(X)\n",
        "\n",
        "X_train, X_test, y_train, y_test = (\n",
        "    model_selection.train_test_split(normalized_X, y, test_size=0.30,\n",
        "                                     random_state=42)\n",
        "    )\n",
        "\n",
        "classifier = DecisionTreeClassifier(random_state=5)\n",
        "\n",
        "classifier.fit(X_train, y_train)\n",
        "\n",
        "y_pred = classifier.predict(X_test)\n",
        "\n",
        "print(sk.metrics.confusion_matrix(y_test, y_pred))\n",
        "print(sk.metrics.classification_report(y_test, y_pred))\n"
      ],
      "execution_count": 19,
      "outputs": [
        {
          "output_type": "stream",
          "text": [
            "[[111  40]\n",
            " [ 27  53]]\n",
            "              precision    recall  f1-score   support\n",
            "\n",
            "           0       0.80      0.74      0.77       151\n",
            "           1       0.57      0.66      0.61        80\n",
            "\n",
            "    accuracy                           0.71       231\n",
            "   macro avg       0.69      0.70      0.69       231\n",
            "weighted avg       0.72      0.71      0.71       231\n",
            "\n"
          ],
          "name": "stdout"
        }
      ]
    }
  ]
}